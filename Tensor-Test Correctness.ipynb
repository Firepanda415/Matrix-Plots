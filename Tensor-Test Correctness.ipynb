{
 "cells": [
  {
   "cell_type": "code",
   "execution_count": 1,
   "metadata": {},
   "outputs": [],
   "source": [
    "# Numerical/Stats pack\n",
    "import numpy as np\n",
    "from collections import Counter\n",
    "import sys\n",
    "import math\n",
    "\n",
    "import matplotlib.pyplot as plt\n",
    "from matplotlib.pyplot import figure\n"
   ]
  },
  {
   "cell_type": "code",
   "execution_count": 2,
   "metadata": {},
   "outputs": [],
   "source": [
    "def get_basis(num_qubits, index):\n",
    "    \"\"\"\n",
    "    Parameters\n",
    "    ----------\n",
    "    num_qubits : int\n",
    "        number of qubits.\n",
    "    index : int\n",
    "        Which qubit is 1. Order follows measurement order\n",
    "\n",
    "    Returns\n",
    "    -------\n",
    "    base : int\n",
    "        the basis string where target position is 1\n",
    "        e.g., num_qubits=5, index=1, then return '01000'\n",
    "\n",
    "    \"\"\"\n",
    "    origin = list('0'*num_qubits)\n",
    "    origin[index] = '1'\n",
    "    return ''.join(origin)\n",
    "    \n",
    "def qubit_matrix(p0m0,p1m1):\n",
    "    \"\"\"\n",
    "    Parameters\n",
    "    ----------\n",
    "    p0m0 : ndarray(dtype=np.float64, dim=num_qubits)\n",
    "        Pr(0|0) for all qubits\n",
    "    p1m1 : ndarray(dtype=np.float64, dim=num_qubits)\n",
    "        Pr(1|1) for all qubits\n",
    "\n",
    "    Returns\n",
    "    -------\n",
    "    mats: np.array(dim=num_qubits*2*2)\n",
    "        mats[i] is 2-by-2 measurement error transition matrix for ith qubit\n",
    "    \"\"\"\n",
    "    num_qubits = p0m0.shape[0]\n",
    "    mats = np.zeros((num_qubits,2,2), dtype=np.float64)\n",
    "    for i in range(num_qubits):\n",
    "        mats[i] = np.array([[p0m0[i], 1-p1m1[i]],[1-p0m0[i], p1m1[i]]])\n",
    "        \n",
    "    return mats\n",
    "\n",
    "def dictToVec(nQubits, counts):\n",
    "    \"\"\" Transfer counts to probabilities\n",
    "\n",
    "    Args:\n",
    "      nQUbits: int\n",
    "        number of qubits\n",
    "      counts: dict\n",
    "        an dictionary in the form {basis string: frequency}. E.g.\n",
    "        {\"01\": 100\n",
    "         \"11\": 100}\n",
    "        dict key follow little-endian convention\n",
    "\n",
    "    Returns: numpy array\n",
    "      an probability vector (array). E.g.\n",
    "      [0, 0.5, 0, 0.5] is the result from example above.\n",
    "    \"\"\"\n",
    "    vec = np.zeros(2**nQubits)\n",
    "    form = \"{0:0\" + str(nQubits) + \"b}\"\n",
    "    for i in range(2**nQubits):\n",
    "        key = form.format(i) # consider key = format(i,'0{}b'.format(nQubits))\n",
    "                             # and delete variable form\n",
    "        if key in counts.keys():\n",
    "            vec[i] = int(counts[key])\n",
    "        else:\n",
    "            vec[i] = 0\n",
    "    return vec\n",
    "\n",
    "\n",
    "def print_info(mat):\n",
    "    print(\"Largest entry={:.4g}, Frobenius norm={:.4g}, 2-Norm={:.4g}\".format(np.abs(mat).max(), \n",
    "                                                                              np.linalg.norm(mat, ord='fro'),\n",
    "                                                                              np.linalg.norm(mat, ord=2)))\n",
    "    print(\"Among {:d} entries, {:d} entries < 1e-3, {:d} entries < 1e-4, {:d} entries < 1e-6\".format(mat.shape[0]*mat.shape[1],\n",
    "                                                                                                      mat[np.abs(mat)<1e-3].shape[0],\n",
    "                                                                                                      mat[np.abs(mat)<1e-4].shape[0], \n",
    "                                                                                                      mat[np.abs(mat)<1e-6].shape[0]))"
   ]
  },
  {
   "cell_type": "code",
   "execution_count": 3,
   "metadata": {},
   "outputs": [],
   "source": [
    "# Cite https://www.geeksforgeeks.org/check-whether-two-numbers-differ-one-bit-position/\n",
    "# Python3 implementation to check whether the two  \n",
    "# numbers differ at one bit position only \n",
    "  \n",
    "# function to check if x is power of 2 \n",
    "def isPowerOfTwo( x ): \n",
    "  \n",
    "    # First x in the below expression is \n",
    "    # for the case when x is 0 \n",
    "    return x and (not(x & (x - 1))) \n",
    "  \n",
    "# function to check whether the two numbers \n",
    "# differ at one bit position only \n",
    "def differAtOneBitPos( a , b ): \n",
    "    return isPowerOfTwo(a ^ b) \n",
    " \n",
    "# Function to find the position of \n",
    "# rightmost set bit in 'n'\n",
    "def getRightMostSetBit(n):\n",
    "    if (n == 0):\n",
    "        return 0\n",
    " \n",
    "    return math.log2(n & -n)\n",
    " \n",
    "# Cite https://www.geeksforgeeks.org/position-rightmost-different-bit/\n",
    "# Function to find the position of \n",
    "# rightmost different bit in the \n",
    "# binary representations of 'm' and 'n'\n",
    "def posOfRightMostDiffBit(m, n):\n",
    " \n",
    "    # position of rightmost different\n",
    "    # bit\n",
    "    return int(getRightMostSetBit(m ^ n))"
   ]
  },
  {
   "cell_type": "code",
   "execution_count": 4,
   "metadata": {},
   "outputs": [],
   "source": [
    "# Parameters\n",
    "file_address = \"./TestData/\"\n",
    "num_qubits = 2"
   ]
  },
  {
   "cell_type": "markdown",
   "metadata": {},
   "source": [
    "# Method 1\n",
    "\n",
    "For example, if we have 5 qubits and we compute Pr(0|0) for Qubit 1, then we go to **data from circuit that constructs 00000** and have $$ Pr(0|0) =1 - \\frac{m(01000)}{m(00000) + m(01000)}, $$ where $m()$ is the number of appearences of a given base in some dataset.\n",
    "\n",
    "Similarly, if we compute Pr(1|1) for Qubit 1, then we go to **data from circuit that constructs 11111** and have $$ Pr(1|1) = 1 - \\frac{m(10111)}{m(10111) + m(11111)}. $$\n",
    "\n",
    "So we need 2 circuits.\n",
    "\n",
    "\n",
    "\n",
    "## Lima\n",
    "\n",
    "Difference between full matrix and the matrix from this method:\n",
    "\n",
    "Largest entry=0.2287, Frobenius norm=1.158, 2-Norm=0.344\n",
    "\n",
    "Among 1024 entries, 734 entries < 1e-3, 567 entries < 1e-4, 348 entries < 1e-6\n",
    "\n",
    "## Quito\n",
    "\n",
    "Largest entry=0.1525, Frobenius norm=0.7954, 2-Norm=0.2537\n",
    "\n",
    "Among 1024 entries, 745 entries < 1e-3, 525 entries < 1e-4, 328 entries < 1e-6"
   ]
  },
  {
   "cell_type": "code",
   "execution_count": 5,
   "metadata": {},
   "outputs": [],
   "source": [
    "# p0m1_count = np.zeros(num_qubits, dtype=np.int) # Record number of appearease of prepare 0 measure 1\n",
    "# p0m0_total = np.zeros(num_qubits, dtype=np.int) # Record number of data entries does not have correlated errors\n",
    "\n",
    "# string_data = np.genfromtxt(file_address + 'Basis'+('0'*num_qubits)+'.csv', delimiter=',',dtype=np.str)\n",
    "# for bits in string_data:\n",
    "#     if bits.count(\"1\") == 0: # When all qubits are noise-free\n",
    "#         p0m0_total = p0m0_total + 1 \n",
    "#     if bits.count(\"1\") == 1:\n",
    "#         pos = string_data[2].find('1') # Postion of the bit 1\n",
    "#         p0m1_count[pos] += 1\n",
    "#         p0m0_total[pos] += 1\n",
    "\n",
    "# # Record probability of prepare 0 measure 0\n",
    "# p0m0 = (p0m0_total-p0m1_count)/p0m0_total\n",
    "\n",
    "\n",
    "# p1m0_count = np.zeros(num_qubits, dtype=np.int) # Record number of appearease of prepare 1 measure 0\n",
    "# p1m1_total = np.zeros(num_qubits, dtype=np.int) # Record number of data entries does not have correlated errors\n",
    "\n",
    "# string_data = np.genfromtxt(file_address + 'Basis'+('1'*num_qubits)+'.csv', delimiter=',',dtype=np.str)\n",
    "# for bits in string_data:\n",
    "#     if bits.count(\"0\") == 0: # When all qubits are noise-free\n",
    "#         p1m1_total = p1m1_total + 1 \n",
    "#     if bits.count(\"0\") == 1:\n",
    "#         pos = string_data[2].find('0') # Postion of the bit 1\n",
    "#         p1m0_count[pos] += 1\n",
    "#         p1m1_total[pos] += 1\n",
    "\n",
    "# # Record probability of prepare 1 measure 1\n",
    "# p1m1 = (p1m1_total-p1m0_count)/p1m1_total"
   ]
  },
  {
   "cell_type": "markdown",
   "metadata": {},
   "source": [
    "# Method 2\n",
    "\n",
    "For example, if we have 5 qubits and we compute Pr(0|0) for Qubit 1, then we go to **data from circuit that constructs 10111** and have $$ Pr(0|0) = \\frac{m(10111)}{m(10111) + m(11111)}, $$ where $m()$ is the number of appearences of a given base in some dataset.\n",
    "\n",
    "Similarly, if we compute Pr(1|1) for Qubit 1, then we go to **data from circuit that constructs 01000** and have $$ Pr(1|1) = \\frac{m(01000)}{m(01000) + m(00000)}. $$\n",
    "\n",
    "So we need $2n$ number of circuits where $n$ is the number of qubits.\n",
    "\n",
    "\n",
    " ## Lima\n",
    "\n",
    "Difference between full matrix and the matrix from this method:\n",
    "\n",
    "Largest entry=0.005453, Frobenius norm=0.01927, 2-Norm=0.007424\n",
    "\n",
    "Among 1024 entries, 956 entries < 1e-3, 762 entries < 1e-4, 227 entries < 1e-6\n",
    "\n",
    "\n",
    "## Quito\n",
    "Largest entry=0.008537, Frobenius norm=0.0245, 2-Norm=0.01069\n",
    "\n",
    "Among 1024 entries, 942 entries < 1e-3, 739 entries < 1e-4, 203 entries < 1e-6"
   ]
  },
  {
   "cell_type": "code",
   "execution_count": 11,
   "metadata": {},
   "outputs": [],
   "source": [
    "p0m0 = np.zeros(num_qubits) # Record probability of prepare 0 measure 0\n",
    "p0m0_total = np.zeros(num_qubits) # Record number of data entries does not have correlated errors\n",
    "\n",
    "\n",
    "for index in range(num_qubits):\n",
    "    # Read data\n",
    "    temp_string = get_basis(num_qubits, index)\n",
    "    target = ''.join('1' if s == '0' else '0' for s in temp_string) # Corresponding bit string\n",
    "    string_data = np.genfromtxt(file_address + 'Basis'+target+'.csv', delimiter=',',dtype=np.str)\n",
    "    # Record number of 1's when other qubits is noise-free\n",
    "    num_data = 0\n",
    "    num_0 = 0\n",
    "    for bits in string_data:\n",
    "        others = bits[:index]+bits[index+1:] # The bits that don't include the interested qubits\n",
    "        if others == '1'*(num_qubits-1): # Make sure other qubits is noise-free\n",
    "            num_data += 1\n",
    "            if bits[index] == '0':\n",
    "                num_0 += 1\n",
    "                \n",
    "    # Record data\n",
    "    p0m0[index] = num_0/num_data\n",
    "    p0m0_total[index] = num_data\n",
    "    \n",
    "    \n",
    "p1m1 = np.zeros(num_qubits) # Record probability of prepare 1 measure 1\n",
    "p1m1_total = np.zeros(num_qubits) # Record number of data entries does not have correlated errors\n",
    "\n",
    "\n",
    "for index in range(num_qubits):\n",
    "    # Read data\n",
    "    target = get_basis(num_qubits, index) # Corresponding bit string\n",
    "    string_data = np.genfromtxt(file_address + 'Basis'+target+'.csv', delimiter=',',dtype=np.str)\n",
    "    # Record number of 1's when other qubits is noise-free\n",
    "    num_data = 0\n",
    "    num_1 = 0\n",
    "    for bits in string_data:\n",
    "        others = bits[:index]+bits[index+1:] # The bits that don't include the interested qubits\n",
    "        if others == '0'*(num_qubits-1): # Make sure other qubits is noise-free\n",
    "            num_data += 1\n",
    "            if bits[index] == '1':\n",
    "                num_1 += 1\n",
    "                \n",
    "    # Record data\n",
    "    p1m1[index] = num_1/num_data\n",
    "    p1m1_total[index] = num_data"
   ]
  },
  {
   "cell_type": "markdown",
   "metadata": {},
   "source": [
    "# Method 3\n",
    "\n",
    "Use all possible basis circuits\n",
    "\n",
    "So we need $2^n$ number of circuits where $n$ is the number of qubits.\n",
    "\n",
    " \n",
    "## Lima\n",
    "Difference between full matrix and the matrix from this method:\n",
    "\n",
    "Largest entry=0.004626, Frobenius norm=0.01495, 2-Norm=0.005593\n",
    "\n",
    "Among 1024 entries, 979 entries < 1e-3, 764 entries < 1e-4, 220 entries < 1e-6\n",
    "\n",
    "## Quito\n",
    "Largest entry=0.006458, Frobenius norm=0.01722, 2-Norm=0.008856\n",
    "\n",
    "Among 1024 entries, 965 entries < 1e-3, 727 entries < 1e-4, 191 entries < 1e-6"
   ]
  },
  {
   "cell_type": "code",
   "execution_count": 13,
   "metadata": {},
   "outputs": [],
   "source": [
    "p0m0_count = np.zeros(num_qubits) # Record counts of prepare 0 measure 0\n",
    "p0m0_total = np.zeros(num_qubits) # Record number of data entries does not have correlated errors\n",
    "p1m1_count = np.zeros(num_qubits) # Record counts of prepare 1 measure 1\n",
    "p1m1_total = np.zeros(num_qubits) # Record number of data entries does not have correlated errors\n",
    "\n",
    "# Go through all possibile basis datasets\n",
    "for bn in range(2**num_qubits):\n",
    "    target = format(bn, \"0{:d}b\".format(num_qubits))\n",
    "    string_data = np.genfromtxt(file_address + 'Basis'+target+'.csv', delimiter=',',dtype=np.str)\n",
    "    \n",
    "    # Then for each data (bitstring) in the dataset\n",
    "    for meas_res in string_data:\n",
    "        meas_int = int(meas_res, 2) # to binary number\n",
    "        if meas_res == target: # If there is no error\n",
    "            for i in range(num_qubits):\n",
    "                if int(target[i],2): # if bit is 1\n",
    "                    p1m1_count[i] += 1\n",
    "                    p1m1_total[i] += 1\n",
    "                else:\n",
    "                    p0m0_count[i] += 1\n",
    "                    p0m0_total[i] += 1\n",
    "        \n",
    "        if differAtOneBitPos(bn, meas_int): # if given basis and measured basis only differ by 1 bit\n",
    "            diff_pos = num_qubits - posOfRightMostDiffBit(bn, meas_int) - 1 # position that the bit is different\n",
    "            if target[diff_pos] == '0':\n",
    "                p0m0_total[diff_pos] += 1\n",
    "            else:\n",
    "                p1m1_total[diff_pos] += 1\n",
    "            \n",
    "# Record probability of prepare 0 measure 0\n",
    "p0m0 = p0m0_count/p0m0_total\n",
    "# Record probability of prepare 1 measure 1\n",
    "p1m1 = p1m1_count/p1m1_total"
   ]
  },
  {
   "cell_type": "code",
   "execution_count": 14,
   "metadata": {},
   "outputs": [
    {
     "data": {
      "text/plain": [
       "(array([0.83333333, 0.83333333]),\n",
       " array([12., 12.]),\n",
       " array([0.5, 0.5]),\n",
       " array([8., 8.]))"
      ]
     },
     "execution_count": 14,
     "metadata": {},
     "output_type": "execute_result"
    }
   ],
   "source": [
    "p0m0, p0m0_total, p1m1, p1m1_total"
   ]
  },
  {
   "cell_type": "code",
   "execution_count": null,
   "metadata": {},
   "outputs": [],
   "source": [
    "np.sqrt(1/60000), np.sqrt(1/900000)"
   ]
  },
  {
   "cell_type": "code",
   "execution_count": null,
   "metadata": {},
   "outputs": [],
   "source": [
    "single_qubit_mats = qubit_matrix(p0m0,p1m1)"
   ]
  },
  {
   "cell_type": "code",
   "execution_count": null,
   "metadata": {},
   "outputs": [],
   "source": [
    "single_qubit_mats"
   ]
  },
  {
   "cell_type": "code",
   "execution_count": null,
   "metadata": {},
   "outputs": [],
   "source": [
    "# matrix with independent assumption\n",
    "ind_mat = single_qubit_mats[0]\n",
    "for i in range(1,num_qubits):\n",
    "    ind_mat = np.kron(ind_mat, single_qubit_mats[i])"
   ]
  },
  {
   "cell_type": "code",
   "execution_count": null,
   "metadata": {},
   "outputs": [],
   "source": [
    "# Original Matrix\n",
    "mean_mat = np.zeros((2**num_qubits,2**num_qubits))\n",
    "for bn in range(2**num_qubits):\n",
    "    target = format(bn, \"0{:d}b\".format(num_qubits))\n",
    "    string_data = np.genfromtxt(file_address + 'Basis'+target+'.csv', delimiter=',',dtype=np.str)\n",
    "    mean_mat[:,int(target,2)] = dictToVec(num_qubits,dict(Counter(string_data)))/string_data.shape[0]"
   ]
  },
  {
   "cell_type": "code",
   "execution_count": null,
   "metadata": {},
   "outputs": [],
   "source": [
    "plt.rcParams[\"figure.figsize\"] = (10, 11)\n",
    "plt.rcParams[\"figure.dpi\"] = 100\n",
    "\n",
    "print_info(mean_mat)\n",
    "plt.imshow(mean_mat)\n",
    "plt.colorbar()\n",
    "plt.title(\"Full Matrix\")\n",
    "plt.show()"
   ]
  },
  {
   "cell_type": "code",
   "execution_count": null,
   "metadata": {},
   "outputs": [],
   "source": [
    "print_info(ind_mat)\n",
    "plt.imshow(ind_mat)\n",
    "plt.colorbar()\n",
    "plt.title(\"Ind Matrix\")\n",
    "plt.show()"
   ]
  },
  {
   "cell_type": "code",
   "execution_count": null,
   "metadata": {},
   "outputs": [],
   "source": [
    "# Differences\n",
    "diff_mat = mean_mat - ind_mat\n",
    "print_info(diff_mat)\n",
    "\n",
    "plt.imshow(diff_mat)\n",
    "plt.colorbar()\n",
    "plt.title(\"Full - Ind\")\n",
    "plt.show()"
   ]
  },
  {
   "cell_type": "code",
   "execution_count": null,
   "metadata": {},
   "outputs": [],
   "source": [
    "test_mat = np.copy(diff_mat)\n",
    "test_mat[test_mat >= 0] = 1\n",
    "test_mat[test_mat < 0] = 0\n",
    "\n",
    "plt.imshow(test_mat)\n",
    "plt.colorbar()\n",
    "plt.title(\"0-1 -+\")\n",
    "plt.show()"
   ]
  },
  {
   "cell_type": "code",
   "execution_count": null,
   "metadata": {},
   "outputs": [],
   "source": [
    "test_mat = np.copy(mean_mat)\n",
    "test_mat[test_mat < 1e-6] = 0\n",
    "test_mat[test_mat >= 1e-6] = 1\n",
    "\n",
    "plt.imshow(test_mat)\n",
    "plt.colorbar()\n",
    "plt.title(\"0-1 1e-6\")\n",
    "plt.show()"
   ]
  },
  {
   "cell_type": "code",
   "execution_count": null,
   "metadata": {},
   "outputs": [],
   "source": [
    "test_mat = np.copy(ind_mat)\n",
    "test_mat[test_mat < 1e-6] = 0\n",
    "test_mat[test_mat >= 1e-6] = 1\n",
    "\n",
    "plt.imshow(test_mat)\n",
    "plt.colorbar()\n",
    "plt.title(\"0-1 1e-6\")\n",
    "plt.show()"
   ]
  },
  {
   "cell_type": "code",
   "execution_count": null,
   "metadata": {},
   "outputs": [],
   "source": [
    "test_mat = np.copy(np.abs(diff_mat))\n",
    "test_mat[test_mat < 1e-5] = 0\n",
    "test_mat[test_mat >= 1e-5] = 1\n",
    "\n",
    "plt.imshow(test_mat)\n",
    "plt.colorbar()\n",
    "plt.title(\"0-1 1e-5\")\n",
    "plt.show()"
   ]
  },
  {
   "cell_type": "code",
   "execution_count": null,
   "metadata": {},
   "outputs": [],
   "source": [
    "test_mat = np.copy(np.abs(diff_mat))\n",
    "test_mat[test_mat < 1e-6] = 0\n",
    "test_mat[test_mat >= 1e-6] = 1\n",
    "\n",
    "plt.imshow(test_mat)\n",
    "plt.colorbar()\n",
    "plt.title(\"0-1 1e-6\")\n",
    "plt.show()"
   ]
  },
  {
   "cell_type": "code",
   "execution_count": null,
   "metadata": {},
   "outputs": [],
   "source": []
  }
 ],
 "metadata": {
  "kernelspec": {
   "display_name": "Python 3",
   "language": "python",
   "name": "python3"
  },
  "language_info": {
   "codemirror_mode": {
    "name": "ipython",
    "version": 3
   },
   "file_extension": ".py",
   "mimetype": "text/x-python",
   "name": "python",
   "nbconvert_exporter": "python",
   "pygments_lexer": "ipython3",
   "version": "3.7.10"
  }
 },
 "nbformat": 4,
 "nbformat_minor": 4
}
